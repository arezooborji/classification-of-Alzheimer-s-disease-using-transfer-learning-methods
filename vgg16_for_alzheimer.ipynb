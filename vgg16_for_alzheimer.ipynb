{
  "cells": [
    {
      "cell_type": "markdown",
      "metadata": {
        "id": "sEylDyWepzQ1"
      },
      "source": [
        "# extract feature with Vgg19\n",
        "\n",
        "---\n",
        "\n"
      ]
    },
    {
      "cell_type": "markdown",
      "metadata": {
        "id": "_Dwv-ldFpzQ3"
      },
      "source": [
        "## lmport librarys"
      ]
    },
    {
      "cell_type": "code",
      "execution_count": null,
      "metadata": {
        "id": "jZdWP9rypzQ4"
      },
      "outputs": [],
      "source": [
        "import io\n",
        "import requests\n",
        "import torch\n",
        "import numpy as np\n",
        "import PIL.Image as Image\n",
        "import torch.nn.functional as F\n",
        "import pandas as pd\n",
        "import pydicom as dicom\n",
        "import cv2\n",
        "import glob\n",
        "from PIL import Image\n",
        "from torchvision import models , transforms\n",
        "from torch.autograd import  Variable\n",
        "from torch import nn\n",
        "from os import listdir\n",
        "from  os.path import isfile , join\n",
        "import seaborn as sb\n",
        "import sklearn\n",
        "import time\n",
        "import os\n",
        "import gc\n",
        "from sklearn import preprocessing\n",
        "from sklearn.model_selection import KFold, StratifiedKFold, train_test_split\n",
        "from sklearn.metrics import mutual_info_score, precision_score, recall_score, fbeta_score, confusion_matrix, accuracy_score\n",
        "import lightgbm as lgb\n",
        "from sklearn.metrics import confusion_matrix\n",
        "import matplotlib.pyplot as plt\n",
        "import missingno as msno\n",
        "from keras.utils import to_categorical\n",
        "from sklearn.metrics import mutual_info_score\n",
        "import random"
      ]
    },
    {
      "cell_type": "markdown",
      "metadata": {
        "id": "gbUT3CSBpzQ5"
      },
      "source": [
        "## loading model vgg 19\n"
      ]
    },
    {
      "cell_type": "code",
      "execution_count": null,
      "metadata": {
        "id": "zb_hArSQpzQ5"
      },
      "outputs": [],
      "source": [
        "fileInfo1 = []"
      ]
    },
    {
      "cell_type": "code",
      "execution_count": null,
      "metadata": {
        "id": "DseTaRrVpzQ5"
      },
      "outputs": [],
      "source": [
        "vgg_model=models.vgg19(pretrained=True)\n",
        "vgg_conv=nn.Sequential(*list(vgg_model.children()) [: -2])"
      ]
    },
    {
      "cell_type": "markdown",
      "metadata": {
        "id": "44LuzPZDpzQ6"
      },
      "source": [
        "## preprocess & normalized"
      ]
    },
    {
      "cell_type": "code",
      "execution_count": null,
      "metadata": {
        "id": "jQu9OOLnpzQ6"
      },
      "outputs": [],
      "source": [
        "for param in vgg_model.parameters():\n",
        "    param.require_grad = False\n",
        "normalize=transforms.Normalize(mean=[0.485, 0.456, 0.406],std=[0.229, 0.224, 0.225])\n",
        "\n",
        "preprocess=transforms.Compose([transforms.Resize(224),#transforms.CenterCrop(32),\n",
        "                               transforms.ToTensor(),normalize])\n"
      ]
    },
    {
      "cell_type": "markdown",
      "metadata": {
        "id": "XrWaldEtpzQ6"
      },
      "source": [
        "### initate file for data fram and read images"
      ]
    },
    {
      "cell_type": "code",
      "execution_count": null,
      "metadata": {
        "scrolled": true,
        "id": "SmXCqwNLpzQ6"
      },
      "outputs": [],
      "source": [
        "#img_file=Image.open(img_folder + img_name1 + str(i)+ img_name2)\n",
        "fNo1=53\n",
        "for i in range (0,53) :\n",
        "    img_file=Image.open('H:\\AD\\.'+ str(i)+ '.dcm')\n",
        "    img_tensor = preprocess(img_file)\n",
        "    img_tensor.unsqueeze_(0)\n",
        "    inputs = Variable(img_tensor)\n",
        "    outputs = vgg_conv(inputs)\n",
        "    outputs1 = torch.Tensor.numpy(outputs.data)\n",
        "    outputs2 = np.reshape(outputs1,(outputs1.shape[0],outputs1.shape[1]*outputs1.shape[2]*outputs1.shape[3]))\n",
        "    output = F.adaptive_max_pool2d(inputs,(1,fNo1))\n",
        "    outputss = np.asarray(output)\n",
        "    outputss = np.reshape(outputss,(outputss.shape[1]*outputss.shape[2]*outputss.shape[3]),outputss.shape[0])\n",
        "    fileInfo1.append(outputss)\n",
        "\n"
      ]
    },
    {
      "cell_type": "code",
      "execution_count": null,
      "metadata": {
        "id": "D_zBGYPtpzQ7"
      },
      "outputs": [],
      "source": [
        "fNo1=400\n",
        "for i in range (0,53) :\n",
        "    img_file=Image.open('H:\\AD\\.'+ str(i)+ '.dcm')\n",
        "    img_tensor = preprocess(img_file)\n",
        "    img_tensor.unsqueeze_(0)\n",
        "    inputs = Variable(img_tensor)\n",
        "    outputs = vgg_conv(inputs)\n",
        "    outputs1 = torch.Tensor.numpy(outputs.data)\n",
        "    outputs2 = np.reshape(outputs1,(outputs1.shape[0],outputs1.shape[1]*outputs1.shape[2]*outputs1.shape[3]))\n",
        "    output = F.adaptive_max_pool2d(inputs,(1,fNo1))\n",
        "    outputss = np.asarray(output)\n",
        "    outputss = np.reshape(outputss,(outputss.shape[1]*outputss.shape[2]*outputss.shape[3]),outputss.shape[0])\n",
        "    fileInfo1.append(outputss)"
      ]
    },
    {
      "cell_type": "code",
      "execution_count": null,
      "metadata": {
        "id": "tfiM0ak5pzQ8",
        "outputId": "58688a20-c14d-44ff-adc8-565a3d593026"
      },
      "outputs": [
        {
          "name": "stdout",
          "output_type": "stream",
          "text": [
            "(0, 0)\n"
          ]
        }
      ],
      "source": [
        "fileInfoFinal = pd.DataFrame(fileInfo1)\n",
        "print(fileInfoFinal.shape)\n",
        "\n"
      ]
    },
    {
      "cell_type": "code",
      "execution_count": null,
      "metadata": {
        "id": "ZfJvLZXipzQ8"
      },
      "outputs": [],
      "source": [
        "fileInfoFinal.to_csv('H:\\AD\\.csv',index=False)"
      ]
    },
    {
      "cell_type": "code",
      "execution_count": null,
      "metadata": {
        "scrolled": true,
        "id": "P7d-tNRZpzQ8"
      },
      "outputs": [],
      "source": [
        "\n",
        "filesInfo1 = pd.read_csv('H:\\AD\\.csv' )\n",
        "print(filesInfo1.shape)\n",
        "##number empty data fram\n",
        "fNo1=400\n",
        "##number for feature extraction\n",
        "fno=2*400\n",
        "#build  emoty data frame in csv file\n",
        "i=0\n",
        "FilesInfo2 = filesInfo1\n",
        "FilesInfo2 .shape\n",
        "for i in range (fno):\n",
        "    FilesInfo2=pd.concat([FilesInfo2,pd.Series(np.arange(filesInfo1.shape[0]))], axis=1)\n",
        "tmp2 = np.arange(FilesInfo2.shape[1])\n",
        "tmp2.astype(str)\n",
        "FilesInfo2.columns = tmp2\n",
        "FilesInfo2.shape\n",
        "FilesInfo2.astype(str)\n",
        "##########loading image & build model\n",
        "## broken name of the file\n",
        "img_folder='H:\\AD\\'\n",
        "img_name1='ADNI.'\n",
        "img_name2='.dcm'\n"
      ]
    },
    {
      "cell_type": "markdown",
      "metadata": {
        "id": "hntZap6YpzQ8"
      },
      "source": [
        "### extract feature"
      ]
    },
    {
      "cell_type": "code",
      "execution_count": null,
      "metadata": {
        "id": "A_5o6HgepzQ8"
      },
      "outputs": [],
      "source": [
        "for i in range (0,515) :\n",
        "    img_file=Image.open(img_folder + img_name1 + str(i)+ img_name2)\n",
        "    img_tensor = preprocess(img_file)\n",
        "    img_tensor.unsqueeze_(0)\n",
        "    inputs = Variable(img_tensor)\n",
        "    outputs = vgg_conv(inputs)\n",
        "    outputs1 = torch.Tensor.numpy(outputs.data)\n",
        "    outputs2 = np.reshape(outputs1,(outputs1.shape[0],outputs1.shape[1]*outputs1.shape[2]*outputs1.shape[3]))\n",
        "    output = F.adaptive_max_pool2d(inputs,(1,fNo1))\n",
        "    outputss = np.asarray(output)\n",
        "    outputss = np.reshape(outputss,(outputss.shape[1]*outputss.shape[2]*outputss.shape[3]),outputss.shape[0])\n",
        "    fileInfo1.append(outputss)\n",
        "    FilesInfo2.iloc[i-1,0:outputss.shape[0]]= outputss"
      ]
    },
    {
      "cell_type": "markdown",
      "metadata": {
        "id": "YSRkXrStpzQ9"
      },
      "source": [
        "### save out put in csv"
      ]
    },
    {
      "cell_type": "code",
      "execution_count": null,
      "metadata": {
        "id": "eaNLJrrcpzQ9"
      },
      "outputs": [],
      "source": [
        "print(FilesInfo2.shape)\n",
        "FilesInfo2.astype(str)\n",
        "FilesInfo2.to_csv(img_folder+'')"
      ]
    },
    {
      "cell_type": "markdown",
      "metadata": {
        "id": "F68moBl1pzQ9"
      },
      "source": [
        "# start modeling"
      ]
    },
    {
      "cell_type": "code",
      "execution_count": null,
      "metadata": {
        "scrolled": true,
        "id": "7mLjdFX9pzQ9"
      },
      "outputs": [],
      "source": [
        "data1 = pd.read_csv(\"H:\\AD\\.csv\")\n",
        "data1\n"
      ]
    },
    {
      "cell_type": "code",
      "execution_count": null,
      "metadata": {
        "scrolled": false,
        "id": "40eW-zRIpzQ9"
      },
      "outputs": [],
      "source": [
        "from pandas import DataFrame\n",
        "corrMatrix = data1.corr()\n",
        "corrMatrix"
      ]
    },
    {
      "cell_type": "code",
      "execution_count": null,
      "metadata": {
        "id": "_td1LtXYpzQ-",
        "outputId": "10a7125a-2275-4f3d-ad30-0d80b72ae5b4"
      },
      "outputs": [
        {
          "data": {
            "text/plain": [
              "0        0.878848\n",
              "1        1.000000\n",
              "2        0.964511\n",
              "3        0.846369\n",
              "4        0.955008\n",
              "5        0.927445\n",
              "6        0.779133\n",
              "7        0.891564\n",
              "8        0.871440\n",
              "9        0.746242\n",
              "10       0.833467\n",
              "11       0.825339\n",
              "12       0.705987\n",
              "13       0.780106\n",
              "14       0.784100\n",
              "15       0.691823\n",
              "16       0.753058\n",
              "17       0.758561\n",
              "18       0.679776\n",
              "19       0.743564\n",
              "20       0.743264\n",
              "21       0.658110\n",
              "22       0.709975\n",
              "23       0.707733\n",
              "24       0.630616\n",
              "25       0.680103\n",
              "26       0.679036\n",
              "27       0.624304\n",
              "28       0.669994\n",
              "29       0.674413\n",
              "           ...   \n",
              "1171     0.053662\n",
              "1172     0.066372\n",
              "1173     0.012143\n",
              "1174     0.058659\n",
              "1175     0.073617\n",
              "1176     0.000155\n",
              "1177     0.054265\n",
              "1178     0.072871\n",
              "1179    -0.013905\n",
              "1180     0.038313\n",
              "1181     0.057589\n",
              "1182     0.002694\n",
              "1183     0.061212\n",
              "1184     0.074459\n",
              "1185    -0.013574\n",
              "1186     0.034367\n",
              "1187     0.057481\n",
              "1188     0.009546\n",
              "1189     0.057436\n",
              "1190     0.074982\n",
              "1191    -0.006892\n",
              "1192     0.034522\n",
              "1193     0.063418\n",
              "1194     0.004823\n",
              "1195     0.044043\n",
              "1196     0.073975\n",
              "1197    -0.023526\n",
              "1198     0.017690\n",
              "1199     0.049802\n",
              "label   -0.118246\n",
              "Name: 1, Length: 1201, dtype: float64"
            ]
          },
          "execution_count": 27,
          "metadata": {},
          "output_type": "execute_result"
        }
      ],
      "source": [
        "corrMatrix[1]"
      ]
    },
    {
      "cell_type": "code",
      "execution_count": null,
      "metadata": {
        "id": "RU_NYfgdpzQ-",
        "outputId": "e39e16e6-c127-496e-8978-51249da4e712"
      },
      "outputs": [
        {
          "data": {
            "image/png": "[encoded data removed]",
            "text/plain": [
              "<Figure size 432x288 with 2 Axes>"
            ]
          },
          "metadata": {
            "needs_background": "light"
          },
          "output_type": "display_data"
        }
      ],
      "source": [
        "import numpy as np\n",
        "import pandas as pd\n",
        "import matplotlib.pyplot as plt\n",
        "data = pd.read_csv('H:\\my AD group payanname.csv', index_col=0)\n",
        "corr = data.corr()\n",
        "fig = plt.figure()\n",
        "ax = fig.add_subplot(111)\n",
        "cax = ax.matshow(corr,cmap='coolwarm', vmin=-1, vmax=1)\n",
        "fig.colorbar(cax)\n",
        "ticks = np.arange(0,len(data.columns),1)\n",
        "ax.set_xticks(ticks)\n",
        "plt.xticks(rotation=90)\n",
        "ax.set_yticks(ticks)\n",
        "ax.set_xticklabels(data.columns)\n",
        "ax.set_yticklabels(data.columns)\n",
        "plt.show()"
      ]
    },
    {
      "cell_type": "code",
      "execution_count": null,
      "metadata": {
        "id": "BTC5fg9LpzQ-"
      },
      "outputs": [],
      "source": [
        "\n",
        "corrMatrix[corrMatrix[9]>=0.95]"
      ]
    },
    {
      "cell_type": "code",
      "execution_count": null,
      "metadata": {
        "scrolled": true,
        "id": "zHylgl7lpzQ-"
      },
      "outputs": [],
      "source": [
        "b = np.array(corrMatrix)\n",
        "bb = corrMatrix.where(corrMatrix>0.95)"
      ]
    },
    {
      "cell_type": "code",
      "execution_count": null,
      "metadata": {
        "id": "1kOR9YXapzQ-"
      },
      "outputs": [],
      "source": [
        "data_a = pd.read_csv(\"H:\\my AD group payanname.csv\")\n",
        "data_a\n",
        "cols1 = data_a.columns\n",
        "corrList = []\n",
        "labels = data_a.iloc[:,1200]\n",
        "a1 = np.corrcoef(data_a.iloc[:,0], labels)\n",
        "print(a1[0,1])\n",
        "for i in range(data_a.shape[1]):\n",
        "    a1 = np.corrcoef(data_a.iloc[:,i], labels)\n",
        "    corrList.append(a1[0,1])\n",
        "a1 = range((1200))\n",
        "lists = [a1,corrList]\n",
        "df = pd.concat([pd.Series(x) for x in lists], axis=1)\n",
        "df.iloc[:,1] = abs(df.iloc[:,1])\n",
        "df2 = df[df.iloc[:,1]>0.18]\n",
        "print(df2.shape)\n",
        "df2.iloc[(df2.shape[0]-1),0] = 1200\n",
        "allData3 = data_a.iloc[:,df2.iloc[:,0].astype(int)]\n",
        "allData3.to_csv('H:\\my AD group payanname.csv',index=False)"
      ]
    },
    {
      "cell_type": "code",
      "execution_count": null,
      "metadata": {
        "id": "InWOHLOapzQ_"
      },
      "outputs": [],
      "source": [
        "from keras.preprocessing import image\n",
        "from keras.applications.vgg19 import VGG19\n",
        "from keras.applications.vgg19 import preprocess_input\n",
        "import numpy as np\n",
        "h = 32\n",
        "#model declaration\n",
        "model = VGG19(weights='imagenet', include_top=False, input_shape=(h,h,3))\n",
        "model.summary()\n",
        "\n",
        "rightMaskFeatures1 = []\n",
        "### it is required a for loop to read images and extract features per image\n",
        "#the following code extracts features from one image\n",
        "imgtmp = 'H:\\AD' #read image from its file\n",
        "imgtmp = cv2.resize(imgtmp,(h,h))\n",
        "img_data = image.img_to_array(imgtmp)\n",
        "img_data = np.expand_dims(img_data, axis=0)\n",
        "img_data = preprocess_input(img_data)\n",
        "vgg19_feature = model.predict(img_data)\n",
        "vgg19_features = np.reshape(vgg19_feature,(vgg19_feature.shape[0]*vgg19_feature.shape[1]*vgg19_feature.shape[2]*vgg19_feature.shape[3]))\n",
        "print(vgg19_features.shape)\n",
        "rightMaskFeatures1.append(vgg19_features)\n",
        "\n",
        "\n",
        "#after extracting features from all images and appending their features, run the following code\n",
        "r = pd.DataFrame(rightMaskFeatures1)\n",
        "print(r.shape)\n",
        "r.head()"
      ]
    },
    {
      "cell_type": "code",
      "execution_count": null,
      "metadata": {
        "id": "JHdUfwsGpzQ_"
      },
      "outputs": [],
      "source": []
    }
  ],
  "metadata": {
    "kernelspec": {
      "display_name": "Python 3",
      "language": "python",
      "name": "python3"
    },
    "language_info": {
      "codemirror_mode": {
        "name": "ipython",
        "version": 3
      },
      "file_extension": ".py",
      "mimetype": "text/x-python",
      "name": "python",
      "nbconvert_exporter": "python",
      "pygments_lexer": "ipython3",
      "version": "3.8.3"
    },
    "colab": {
      "provenance": []
    }
  },
  "nbformat": 4,
  "nbformat_minor": 0
}